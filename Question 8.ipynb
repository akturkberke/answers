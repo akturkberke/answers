{
 "cells": [
  {
   "cell_type": "code",
   "execution_count": 1,
   "id": "d1e1f30d",
   "metadata": {},
   "outputs": [],
   "source": [
    "url = '<url>https://xcd32112.smart_meter.com</url>'"
   ]
  },
  {
   "cell_type": "code",
   "execution_count": 2,
   "id": "666a6290",
   "metadata": {},
   "outputs": [],
   "source": [
    "def splitter(url):\n",
    "    url1 = url.split('//')[1]\n",
    "    # it returns xcd32112.smart_meter.com</url>\n",
    "    url2 = url1.split('<')[0]\n",
    "    # it returns xcd32112.smart_meter.com\n",
    "    return url2\n"
   ]
  },
  {
   "cell_type": "code",
   "execution_count": 3,
   "id": "6eaf7403",
   "metadata": {},
   "outputs": [
    {
     "name": "stdout",
     "output_type": "stream",
     "text": [
      "xcd32112.smart_meter.com\n"
     ]
    }
   ],
   "source": [
    "newurl = splitter(url)\n",
    "print(newurl)"
   ]
  },
  {
   "cell_type": "code",
   "execution_count": null,
   "id": "8294ca9a",
   "metadata": {},
   "outputs": [],
   "source": []
  }
 ],
 "metadata": {
  "kernelspec": {
   "display_name": "Python 3 (ipykernel)",
   "language": "python",
   "name": "python3"
  },
  "language_info": {
   "codemirror_mode": {
    "name": "ipython",
    "version": 3
   },
   "file_extension": ".py",
   "mimetype": "text/x-python",
   "name": "python",
   "nbconvert_exporter": "python",
   "pygments_lexer": "ipython3",
   "version": "3.9.7"
  }
 },
 "nbformat": 4,
 "nbformat_minor": 5
}
