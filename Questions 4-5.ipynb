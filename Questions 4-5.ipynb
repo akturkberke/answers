{
 "cells": [
  {
   "cell_type": "code",
   "execution_count": 1,
   "id": "91ae8cbc",
   "metadata": {},
   "outputs": [],
   "source": [
    "# First import the libraries"
   ]
  },
  {
   "cell_type": "code",
   "execution_count": 2,
   "id": "4be87c20",
   "metadata": {},
   "outputs": [],
   "source": [
    "import pandas as pd\n",
    "import numpy as np\n",
    "import matplotlib.pyplot as plt\n",
    "import seaborn as sns\n",
    "%matplotlib inline"
   ]
  },
  {
   "cell_type": "code",
   "execution_count": 3,
   "id": "992083b5",
   "metadata": {},
   "outputs": [],
   "source": [
    "# Read the data"
   ]
  },
  {
   "cell_type": "code",
   "execution_count": 4,
   "id": "dde45079",
   "metadata": {},
   "outputs": [],
   "source": [
    "data = pd.read_csv('country_vaccination_stats.csv')"
   ]
  },
  {
   "cell_type": "code",
   "execution_count": 5,
   "id": "27590798",
   "metadata": {},
   "outputs": [],
   "source": [
    "# Explore the data"
   ]
  },
  {
   "cell_type": "code",
   "execution_count": 6,
   "id": "c71397e6",
   "metadata": {},
   "outputs": [
    {
     "data": {
      "text/html": [
       "<div>\n",
       "<style scoped>\n",
       "    .dataframe tbody tr th:only-of-type {\n",
       "        vertical-align: middle;\n",
       "    }\n",
       "\n",
       "    .dataframe tbody tr th {\n",
       "        vertical-align: top;\n",
       "    }\n",
       "\n",
       "    .dataframe thead th {\n",
       "        text-align: right;\n",
       "    }\n",
       "</style>\n",
       "<table border=\"1\" class=\"dataframe\">\n",
       "  <thead>\n",
       "    <tr style=\"text-align: right;\">\n",
       "      <th></th>\n",
       "      <th>country</th>\n",
       "      <th>date</th>\n",
       "      <th>daily_vaccinations</th>\n",
       "      <th>vaccines</th>\n",
       "    </tr>\n",
       "  </thead>\n",
       "  <tbody>\n",
       "    <tr>\n",
       "      <th>0</th>\n",
       "      <td>Argentina</td>\n",
       "      <td>12/29/2020</td>\n",
       "      <td>NaN</td>\n",
       "      <td>Sputnik V</td>\n",
       "    </tr>\n",
       "    <tr>\n",
       "      <th>1</th>\n",
       "      <td>Argentina</td>\n",
       "      <td>12/30/2020</td>\n",
       "      <td>15656.0</td>\n",
       "      <td>Sputnik V</td>\n",
       "    </tr>\n",
       "    <tr>\n",
       "      <th>2</th>\n",
       "      <td>Argentina</td>\n",
       "      <td>12/31/2020</td>\n",
       "      <td>15656.0</td>\n",
       "      <td>Sputnik V</td>\n",
       "    </tr>\n",
       "    <tr>\n",
       "      <th>3</th>\n",
       "      <td>Argentina</td>\n",
       "      <td>1/1/2021</td>\n",
       "      <td>11070.0</td>\n",
       "      <td>Sputnik V</td>\n",
       "    </tr>\n",
       "    <tr>\n",
       "      <th>4</th>\n",
       "      <td>Argentina</td>\n",
       "      <td>1/2/2021</td>\n",
       "      <td>8776.0</td>\n",
       "      <td>Sputnik V</td>\n",
       "    </tr>\n",
       "  </tbody>\n",
       "</table>\n",
       "</div>"
      ],
      "text/plain": [
       "     country        date  daily_vaccinations   vaccines\n",
       "0  Argentina  12/29/2020                 NaN  Sputnik V\n",
       "1  Argentina  12/30/2020             15656.0  Sputnik V\n",
       "2  Argentina  12/31/2020             15656.0  Sputnik V\n",
       "3  Argentina    1/1/2021             11070.0  Sputnik V\n",
       "4  Argentina    1/2/2021              8776.0  Sputnik V"
      ]
     },
     "execution_count": 6,
     "metadata": {},
     "output_type": "execute_result"
    }
   ],
   "source": [
    "data.head()"
   ]
  },
  {
   "cell_type": "code",
   "execution_count": 7,
   "id": "9a09e9e6",
   "metadata": {},
   "outputs": [
    {
     "data": {
      "text/html": [
       "<div>\n",
       "<style scoped>\n",
       "    .dataframe tbody tr th:only-of-type {\n",
       "        vertical-align: middle;\n",
       "    }\n",
       "\n",
       "    .dataframe tbody tr th {\n",
       "        vertical-align: top;\n",
       "    }\n",
       "\n",
       "    .dataframe thead th {\n",
       "        text-align: right;\n",
       "    }\n",
       "</style>\n",
       "<table border=\"1\" class=\"dataframe\">\n",
       "  <thead>\n",
       "    <tr style=\"text-align: right;\">\n",
       "      <th></th>\n",
       "      <th>daily_vaccinations</th>\n",
       "    </tr>\n",
       "  </thead>\n",
       "  <tbody>\n",
       "    <tr>\n",
       "      <th>count</th>\n",
       "      <td>1.442000e+03</td>\n",
       "    </tr>\n",
       "    <tr>\n",
       "      <th>mean</th>\n",
       "      <td>4.334959e+04</td>\n",
       "    </tr>\n",
       "    <tr>\n",
       "      <th>std</th>\n",
       "      <td>1.165367e+05</td>\n",
       "    </tr>\n",
       "    <tr>\n",
       "      <th>min</th>\n",
       "      <td>1.000000e+00</td>\n",
       "    </tr>\n",
       "    <tr>\n",
       "      <th>25%</th>\n",
       "      <td>1.659750e+03</td>\n",
       "    </tr>\n",
       "    <tr>\n",
       "      <th>50%</th>\n",
       "      <td>5.567000e+03</td>\n",
       "    </tr>\n",
       "    <tr>\n",
       "      <th>75%</th>\n",
       "      <td>2.797975e+04</td>\n",
       "    </tr>\n",
       "    <tr>\n",
       "      <th>max</th>\n",
       "      <td>1.126251e+06</td>\n",
       "    </tr>\n",
       "  </tbody>\n",
       "</table>\n",
       "</div>"
      ],
      "text/plain": [
       "       daily_vaccinations\n",
       "count        1.442000e+03\n",
       "mean         4.334959e+04\n",
       "std          1.165367e+05\n",
       "min          1.000000e+00\n",
       "25%          1.659750e+03\n",
       "50%          5.567000e+03\n",
       "75%          2.797975e+04\n",
       "max          1.126251e+06"
      ]
     },
     "execution_count": 7,
     "metadata": {},
     "output_type": "execute_result"
    }
   ],
   "source": [
    "data.describe()"
   ]
  },
  {
   "cell_type": "code",
   "execution_count": 8,
   "id": "f6f207ce",
   "metadata": {},
   "outputs": [
    {
     "name": "stdout",
     "output_type": "stream",
     "text": [
      "<class 'pandas.core.frame.DataFrame'>\n",
      "RangeIndex: 1502 entries, 0 to 1501\n",
      "Data columns (total 4 columns):\n",
      " #   Column              Non-Null Count  Dtype  \n",
      "---  ------              --------------  -----  \n",
      " 0   country             1502 non-null   object \n",
      " 1   date                1502 non-null   object \n",
      " 2   daily_vaccinations  1442 non-null   float64\n",
      " 3   vaccines            1502 non-null   object \n",
      "dtypes: float64(1), object(3)\n",
      "memory usage: 47.1+ KB\n"
     ]
    }
   ],
   "source": [
    "data.info()"
   ]
  },
  {
   "cell_type": "markdown",
   "id": "9d340f00",
   "metadata": {},
   "source": [
    "A function to fill the missing data with the minimum values of the corresponding countries"
   ]
  },
  {
   "cell_type": "code",
   "execution_count": 9,
   "id": "d27cf920",
   "metadata": {},
   "outputs": [],
   "source": [
    "def filler(cols):\n",
    "    country = cols[0]\n",
    "    vaccine = cols[1]\n",
    "    \n",
    "    if pd.isnull(vaccine):\n",
    "        return data[data['country']==country]['daily_vaccinations'].min()\n",
    "    else:\n",
    "        return vaccine\n"
   ]
  },
  {
   "cell_type": "markdown",
   "id": "9f50e802",
   "metadata": {},
   "source": [
    "Applying the function to dataframe"
   ]
  },
  {
   "cell_type": "code",
   "execution_count": 11,
   "id": "76e5e7f5",
   "metadata": {},
   "outputs": [],
   "source": [
    "data['daily_vaccinations'] = data[['country','daily_vaccinations']].apply(filler,axis=1)"
   ]
  },
  {
   "cell_type": "markdown",
   "id": "2ba9dc79",
   "metadata": {},
   "source": [
    "The only country with null value is Kuwait since it has no record of vaccinication, therefore set it to 0"
   ]
  },
  {
   "cell_type": "code",
   "execution_count": 12,
   "id": "02a88940",
   "metadata": {},
   "outputs": [
    {
     "data": {
      "text/html": [
       "<div>\n",
       "<style scoped>\n",
       "    .dataframe tbody tr th:only-of-type {\n",
       "        vertical-align: middle;\n",
       "    }\n",
       "\n",
       "    .dataframe tbody tr th {\n",
       "        vertical-align: top;\n",
       "    }\n",
       "\n",
       "    .dataframe thead th {\n",
       "        text-align: right;\n",
       "    }\n",
       "</style>\n",
       "<table border=\"1\" class=\"dataframe\">\n",
       "  <thead>\n",
       "    <tr style=\"text-align: right;\">\n",
       "      <th></th>\n",
       "      <th>country</th>\n",
       "      <th>date</th>\n",
       "      <th>daily_vaccinations</th>\n",
       "      <th>vaccines</th>\n",
       "    </tr>\n",
       "  </thead>\n",
       "  <tbody>\n",
       "    <tr>\n",
       "      <th>750</th>\n",
       "      <td>Kuwait</td>\n",
       "      <td>12/28/2020</td>\n",
       "      <td>NaN</td>\n",
       "      <td>Pfizer/BioNTech</td>\n",
       "    </tr>\n",
       "  </tbody>\n",
       "</table>\n",
       "</div>"
      ],
      "text/plain": [
       "    country        date  daily_vaccinations         vaccines\n",
       "750  Kuwait  12/28/2020                 NaN  Pfizer/BioNTech"
      ]
     },
     "execution_count": 12,
     "metadata": {},
     "output_type": "execute_result"
    }
   ],
   "source": [
    "data[data['daily_vaccinations'].isnull()]"
   ]
  },
  {
   "cell_type": "code",
   "execution_count": 13,
   "id": "cd769123",
   "metadata": {},
   "outputs": [
    {
     "data": {
      "text/html": [
       "<div>\n",
       "<style scoped>\n",
       "    .dataframe tbody tr th:only-of-type {\n",
       "        vertical-align: middle;\n",
       "    }\n",
       "\n",
       "    .dataframe tbody tr th {\n",
       "        vertical-align: top;\n",
       "    }\n",
       "\n",
       "    .dataframe thead th {\n",
       "        text-align: right;\n",
       "    }\n",
       "</style>\n",
       "<table border=\"1\" class=\"dataframe\">\n",
       "  <thead>\n",
       "    <tr style=\"text-align: right;\">\n",
       "      <th></th>\n",
       "      <th>country</th>\n",
       "      <th>date</th>\n",
       "      <th>daily_vaccinations</th>\n",
       "      <th>vaccines</th>\n",
       "    </tr>\n",
       "  </thead>\n",
       "  <tbody>\n",
       "    <tr>\n",
       "      <th>750</th>\n",
       "      <td>Kuwait</td>\n",
       "      <td>12/28/2020</td>\n",
       "      <td>NaN</td>\n",
       "      <td>Pfizer/BioNTech</td>\n",
       "    </tr>\n",
       "  </tbody>\n",
       "</table>\n",
       "</div>"
      ],
      "text/plain": [
       "    country        date  daily_vaccinations         vaccines\n",
       "750  Kuwait  12/28/2020                 NaN  Pfizer/BioNTech"
      ]
     },
     "execution_count": 13,
     "metadata": {},
     "output_type": "execute_result"
    }
   ],
   "source": [
    "data[data['country'] == 'Kuwait']"
   ]
  },
  {
   "cell_type": "code",
   "execution_count": 14,
   "id": "8d07e713",
   "metadata": {},
   "outputs": [],
   "source": [
    "# Since kuwait has no record of vaccination, fill it with 0\n",
    "data.loc[750,'daily_vaccinations'] = 0"
   ]
  },
  {
   "cell_type": "code",
   "execution_count": 15,
   "id": "ffbc1fcd",
   "metadata": {},
   "outputs": [
    {
     "name": "stdout",
     "output_type": "stream",
     "text": [
      "<class 'pandas.core.frame.DataFrame'>\n",
      "RangeIndex: 1502 entries, 0 to 1501\n",
      "Data columns (total 4 columns):\n",
      " #   Column              Non-Null Count  Dtype  \n",
      "---  ------              --------------  -----  \n",
      " 0   country             1502 non-null   object \n",
      " 1   date                1502 non-null   object \n",
      " 2   daily_vaccinations  1502 non-null   float64\n",
      " 3   vaccines            1502 non-null   object \n",
      "dtypes: float64(1), object(3)\n",
      "memory usage: 47.1+ KB\n"
     ]
    }
   ],
   "source": [
    "data.info()"
   ]
  },
  {
   "cell_type": "code",
   "execution_count": 16,
   "id": "6b37a158",
   "metadata": {},
   "outputs": [
    {
     "data": {
      "text/html": [
       "<div>\n",
       "<style scoped>\n",
       "    .dataframe tbody tr th:only-of-type {\n",
       "        vertical-align: middle;\n",
       "    }\n",
       "\n",
       "    .dataframe tbody tr th {\n",
       "        vertical-align: top;\n",
       "    }\n",
       "\n",
       "    .dataframe thead th {\n",
       "        text-align: right;\n",
       "    }\n",
       "</style>\n",
       "<table border=\"1\" class=\"dataframe\">\n",
       "  <thead>\n",
       "    <tr style=\"text-align: right;\">\n",
       "      <th></th>\n",
       "      <th>country</th>\n",
       "      <th>date</th>\n",
       "      <th>daily_vaccinations</th>\n",
       "      <th>vaccines</th>\n",
       "    </tr>\n",
       "  </thead>\n",
       "  <tbody>\n",
       "    <tr>\n",
       "      <th>0</th>\n",
       "      <td>Argentina</td>\n",
       "      <td>12/29/2020</td>\n",
       "      <td>6483.0</td>\n",
       "      <td>Sputnik V</td>\n",
       "    </tr>\n",
       "    <tr>\n",
       "      <th>1</th>\n",
       "      <td>Argentina</td>\n",
       "      <td>12/30/2020</td>\n",
       "      <td>15656.0</td>\n",
       "      <td>Sputnik V</td>\n",
       "    </tr>\n",
       "    <tr>\n",
       "      <th>2</th>\n",
       "      <td>Argentina</td>\n",
       "      <td>12/31/2020</td>\n",
       "      <td>15656.0</td>\n",
       "      <td>Sputnik V</td>\n",
       "    </tr>\n",
       "    <tr>\n",
       "      <th>3</th>\n",
       "      <td>Argentina</td>\n",
       "      <td>1/1/2021</td>\n",
       "      <td>11070.0</td>\n",
       "      <td>Sputnik V</td>\n",
       "    </tr>\n",
       "    <tr>\n",
       "      <th>4</th>\n",
       "      <td>Argentina</td>\n",
       "      <td>1/2/2021</td>\n",
       "      <td>8776.0</td>\n",
       "      <td>Sputnik V</td>\n",
       "    </tr>\n",
       "  </tbody>\n",
       "</table>\n",
       "</div>"
      ],
      "text/plain": [
       "     country        date  daily_vaccinations   vaccines\n",
       "0  Argentina  12/29/2020              6483.0  Sputnik V\n",
       "1  Argentina  12/30/2020             15656.0  Sputnik V\n",
       "2  Argentina  12/31/2020             15656.0  Sputnik V\n",
       "3  Argentina    1/1/2021             11070.0  Sputnik V\n",
       "4  Argentina    1/2/2021              8776.0  Sputnik V"
      ]
     },
     "execution_count": 16,
     "metadata": {},
     "output_type": "execute_result"
    }
   ],
   "source": [
    "data.head()"
   ]
  },
  {
   "cell_type": "code",
   "execution_count": 17,
   "id": "f7b287c4",
   "metadata": {},
   "outputs": [],
   "source": [
    "# All null values are filled."
   ]
  },
  {
   "cell_type": "code",
   "execution_count": 18,
   "id": "8b63a0da",
   "metadata": {},
   "outputs": [],
   "source": [
    "medians = data.groupby('country').median()"
   ]
  },
  {
   "cell_type": "code",
   "execution_count": 19,
   "id": "6fb5b9e2",
   "metadata": {},
   "outputs": [
    {
     "data": {
      "text/html": [
       "<div>\n",
       "<style scoped>\n",
       "    .dataframe tbody tr th:only-of-type {\n",
       "        vertical-align: middle;\n",
       "    }\n",
       "\n",
       "    .dataframe tbody tr th {\n",
       "        vertical-align: top;\n",
       "    }\n",
       "\n",
       "    .dataframe thead th {\n",
       "        text-align: right;\n",
       "    }\n",
       "</style>\n",
       "<table border=\"1\" class=\"dataframe\">\n",
       "  <thead>\n",
       "    <tr style=\"text-align: right;\">\n",
       "      <th></th>\n",
       "      <th>daily_vaccinations</th>\n",
       "    </tr>\n",
       "    <tr>\n",
       "      <th>country</th>\n",
       "      <th></th>\n",
       "    </tr>\n",
       "  </thead>\n",
       "  <tbody>\n",
       "    <tr>\n",
       "      <th>United States</th>\n",
       "      <td>378253.0</td>\n",
       "    </tr>\n",
       "    <tr>\n",
       "      <th>China</th>\n",
       "      <td>276786.0</td>\n",
       "    </tr>\n",
       "    <tr>\n",
       "      <th>India</th>\n",
       "      <td>173922.0</td>\n",
       "    </tr>\n",
       "  </tbody>\n",
       "</table>\n",
       "</div>"
      ],
      "text/plain": [
       "               daily_vaccinations\n",
       "country                          \n",
       "United States            378253.0\n",
       "China                    276786.0\n",
       "India                    173922.0"
      ]
     },
     "execution_count": 19,
     "metadata": {},
     "output_type": "execute_result"
    }
   ],
   "source": [
    "medians.sort_values(by='daily_vaccinations',ascending=False).head(3)"
   ]
  },
  {
   "cell_type": "code",
   "execution_count": 20,
   "id": "702b85a5",
   "metadata": {},
   "outputs": [
    {
     "data": {
      "text/plain": [
       "1485255.0"
      ]
     },
     "execution_count": 20,
     "metadata": {},
     "output_type": "execute_result"
    }
   ],
   "source": [
    "sum(data[data['date'] == '1/6/2021']['daily_vaccinations'])"
   ]
  },
  {
   "cell_type": "code",
   "execution_count": null,
   "id": "f7b515c8",
   "metadata": {},
   "outputs": [],
   "source": []
  }
 ],
 "metadata": {
  "kernelspec": {
   "display_name": "Python 3 (ipykernel)",
   "language": "python",
   "name": "python3"
  },
  "language_info": {
   "codemirror_mode": {
    "name": "ipython",
    "version": 3
   },
   "file_extension": ".py",
   "mimetype": "text/x-python",
   "name": "python",
   "nbconvert_exporter": "python",
   "pygments_lexer": "ipython3",
   "version": "3.9.7"
  }
 },
 "nbformat": 4,
 "nbformat_minor": 5
}
